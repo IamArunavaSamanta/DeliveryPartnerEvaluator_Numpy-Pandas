{
 "cells": [
  {
   "cell_type": "code",
   "execution_count": 265,
   "id": "b8592300-a163-40d4-922d-0d7316f6efc6",
   "metadata": {},
   "outputs": [],
   "source": [
    "import numpy as np\n",
    "import pandas as pd\n",
    "import matplotlib.pyplot as plt\n",
    "import glob\n",
    "import math"
   ]
  },
  {
   "cell_type": "code",
   "execution_count": 266,
   "id": "8fbeceb2-48ac-4a75-aa2e-c9b0dec601e0",
   "metadata": {},
   "outputs": [
    {
     "name": "stdout",
     "output_type": "stream",
     "text": [
      "Defaulting to user installation because normal site-packages is not writeable\n",
      "Requirement already satisfied: openpyxl in c:\\users\\arsamant\\appdata\\roaming\\python\\python313\\site-packages (3.1.5)\n",
      "Requirement already satisfied: et-xmlfile in c:\\users\\arsamant\\appdata\\roaming\\python\\python313\\site-packages (from openpyxl) (2.0.0)\n"
     ]
    }
   ],
   "source": [
    "!pip install openpyxl"
   ]
  },
  {
   "cell_type": "code",
   "execution_count": 267,
   "id": "46a67362-25a9-4553-bef3-0c41a5a40a44",
   "metadata": {},
   "outputs": [],
   "source": [
    "Invoice = pd.read_excel(\"Company X - Order Report.xlsx\")\n",
    "Zone = pd.read_excel(\"Company X - Pincode Zones.xlsx\")\n",
    "SKU = pd.read_excel(\"Company X - SKU Master.xlsx\")\n",
    "Courier_invoice = pd.read_excel(\"Courier Company - Invoice.xlsx\")\n",
    "Courier_rate = pd.read_excel(\"Courier Company - Rates.xlsx\")\n",
    "Result = pd.read_excel(\"Expected_Result.xlsx\")"
   ]
  },
  {
   "cell_type": "markdown",
   "id": "3920a8d1-d3cb-4ffa-828b-41dae6d02ddf",
   "metadata": {},
   "source": [
    "## Count"
   ]
  },
  {
   "cell_type": "code",
   "execution_count": 268,
   "id": "334bfc5c-6a9b-476a-8522-6d9e30a23bed",
   "metadata": {},
   "outputs": [
    {
     "name": "stdout",
     "output_type": "stream",
     "text": [
      "400\n",
      "124\n",
      "66\n",
      "124\n",
      "1\n"
     ]
    }
   ],
   "source": [
    "print(Invoice['ExternOrderNo'].count())\n",
    "print(Zone['Zone'].count())\n",
    "print(SKU['SKU'].count())\n",
    "print(Courier_invoice['AWB Code'].count())\n",
    "print(Courier_rate['fwd_a_fixed'].count())"
   ]
  },
  {
   "cell_type": "markdown",
   "id": "9bcfbfa8-bb93-43a1-9e49-a76ba2aea694",
   "metadata": {},
   "source": [
    "## Columns"
   ]
  },
  {
   "cell_type": "code",
   "execution_count": 269,
   "id": "587494cd-3e98-43bc-b92b-aa8d9ba3176b",
   "metadata": {},
   "outputs": [
    {
     "data": {
      "text/plain": [
       "Index(['ExternOrderNo', 'SKU', 'Order Qty'], dtype='object')"
      ]
     },
     "execution_count": 269,
     "metadata": {},
     "output_type": "execute_result"
    }
   ],
   "source": [
    "Invoice.columns"
   ]
  },
  {
   "cell_type": "code",
   "execution_count": 270,
   "id": "a40edc78-325b-41d2-9706-8861e7811baa",
   "metadata": {},
   "outputs": [
    {
     "data": {
      "text/plain": [
       "Index(['Warehouse Pincode', 'Customer Pincode', 'Zone'], dtype='object')"
      ]
     },
     "execution_count": 270,
     "metadata": {},
     "output_type": "execute_result"
    }
   ],
   "source": [
    "Zone.columns"
   ]
  },
  {
   "cell_type": "code",
   "execution_count": 271,
   "id": "391e42b6-348c-4d3e-b41f-821b7c68ea73",
   "metadata": {},
   "outputs": [
    {
     "data": {
      "text/plain": [
       "Index(['SKU', 'Weight (g)'], dtype='object')"
      ]
     },
     "execution_count": 271,
     "metadata": {},
     "output_type": "execute_result"
    }
   ],
   "source": [
    "SKU.columns"
   ]
  },
  {
   "cell_type": "code",
   "execution_count": 272,
   "id": "4eb5a917-f009-40ca-ae69-ada174a4b244",
   "metadata": {},
   "outputs": [
    {
     "data": {
      "text/plain": [
       "Index(['AWB Code', 'Order ID', 'Charged Weight', 'Warehouse Pincode',\n",
       "       'Customer Pincode', 'Zone', 'Type of Shipment', 'Billing Amount (Rs.)'],\n",
       "      dtype='object')"
      ]
     },
     "execution_count": 272,
     "metadata": {},
     "output_type": "execute_result"
    }
   ],
   "source": [
    "Courier_invoice.columns"
   ]
  },
  {
   "cell_type": "code",
   "execution_count": 273,
   "id": "14ad8c76-a5e4-46c5-93ce-4f403097b945",
   "metadata": {},
   "outputs": [
    {
     "data": {
      "text/plain": [
       "Index(['fwd_a_fixed', 'fwd_a_additional', 'fwd_b_fixed', 'fwd_b_additional',\n",
       "       'fwd_c_fixed', 'fwd_c_additional', 'fwd_d_fixed', 'fwd_d_additional',\n",
       "       'fwd_e_fixed', 'fwd_e_additional', 'rto_a_fixed', 'rto_a_additional',\n",
       "       'rto_b_fixed', 'rto_b_additional', 'rto_c_fixed', 'rto_c_additional',\n",
       "       'rto_d_fixed', 'rto_d_additional', 'rto_e_fixed', 'rto_e_additional'],\n",
       "      dtype='object')"
      ]
     },
     "execution_count": 273,
     "metadata": {},
     "output_type": "execute_result"
    }
   ],
   "source": [
    "Courier_rate.columns"
   ]
  },
  {
   "cell_type": "code",
   "execution_count": 274,
   "id": "570aedc6-9e7c-4e97-a3fd-d9de92a3116b",
   "metadata": {},
   "outputs": [
    {
     "data": {
      "text/plain": [
       "Index(['Index', 'Count', 'Amount'], dtype='object')"
      ]
     },
     "execution_count": 274,
     "metadata": {},
     "output_type": "execute_result"
    }
   ],
   "source": [
    "Result.columns"
   ]
  },
  {
   "cell_type": "markdown",
   "id": "60a5bfbf-a9b4-4f24-b473-a35170d49844",
   "metadata": {},
   "source": [
    "## Total Amount"
   ]
  },
  {
   "cell_type": "code",
   "execution_count": 275,
   "id": "e40ed080-c308-4985-9045-7b8c3bd850ab",
   "metadata": {},
   "outputs": [
    {
     "data": {
      "text/plain": [
       "np.float64(13648.2)"
      ]
     },
     "execution_count": 275,
     "metadata": {},
     "output_type": "execute_result"
    }
   ],
   "source": [
    "np.sum(Courier_invoice['Billing Amount (Rs.)'])"
   ]
  },
  {
   "cell_type": "markdown",
   "id": "da6ac4df-3fda-491b-92e5-a8911eef0e5c",
   "metadata": {},
   "source": [
    "## Remove Duplicates Row"
   ]
  },
  {
   "cell_type": "code",
   "execution_count": 276,
   "id": "d8243a6a-86e8-4c06-8e7f-930cec26cc5b",
   "metadata": {},
   "outputs": [],
   "source": [
    "Invoice = Invoice.drop_duplicates()\n",
    "Zone = Zone.drop_duplicates()\n",
    "SKU = SKU.drop_duplicates()\n",
    "Courier_invoice = Courier_invoice.drop_duplicates()\n",
    "Courier_rate = Courier_rate.drop_duplicates()"
   ]
  },
  {
   "cell_type": "markdown",
   "id": "0286e0e9-34d1-4550-b0ef-20a81a5d31cc",
   "metadata": {},
   "source": [
    "## Upper case zone"
   ]
  },
  {
   "cell_type": "code",
   "execution_count": 277,
   "id": "7c99d248-e857-49a5-85cb-56b8816ef47f",
   "metadata": {},
   "outputs": [
    {
     "data": {
      "text/html": [
       "<div>\n",
       "<style scoped>\n",
       "    .dataframe tbody tr th:only-of-type {\n",
       "        vertical-align: middle;\n",
       "    }\n",
       "\n",
       "    .dataframe tbody tr th {\n",
       "        vertical-align: top;\n",
       "    }\n",
       "\n",
       "    .dataframe thead th {\n",
       "        text-align: right;\n",
       "    }\n",
       "</style>\n",
       "<table border=\"1\" class=\"dataframe\">\n",
       "  <thead>\n",
       "    <tr style=\"text-align: right;\">\n",
       "      <th></th>\n",
       "      <th>Warehouse Pincode</th>\n",
       "      <th>Customer Pincode</th>\n",
       "      <th>Zone</th>\n",
       "    </tr>\n",
       "  </thead>\n",
       "  <tbody>\n",
       "    <tr>\n",
       "      <th>0</th>\n",
       "      <td>121003</td>\n",
       "      <td>507101</td>\n",
       "      <td>d</td>\n",
       "    </tr>\n",
       "    <tr>\n",
       "      <th>1</th>\n",
       "      <td>121003</td>\n",
       "      <td>486886</td>\n",
       "      <td>d</td>\n",
       "    </tr>\n",
       "    <tr>\n",
       "      <th>2</th>\n",
       "      <td>121003</td>\n",
       "      <td>532484</td>\n",
       "      <td>d</td>\n",
       "    </tr>\n",
       "    <tr>\n",
       "      <th>3</th>\n",
       "      <td>121003</td>\n",
       "      <td>143001</td>\n",
       "      <td>b</td>\n",
       "    </tr>\n",
       "    <tr>\n",
       "      <th>4</th>\n",
       "      <td>121003</td>\n",
       "      <td>515591</td>\n",
       "      <td>d</td>\n",
       "    </tr>\n",
       "    <tr>\n",
       "      <th>...</th>\n",
       "      <td>...</td>\n",
       "      <td>...</td>\n",
       "      <td>...</td>\n",
       "    </tr>\n",
       "    <tr>\n",
       "      <th>114</th>\n",
       "      <td>121003</td>\n",
       "      <td>324008</td>\n",
       "      <td>b</td>\n",
       "    </tr>\n",
       "    <tr>\n",
       "      <th>115</th>\n",
       "      <td>121003</td>\n",
       "      <td>302020</td>\n",
       "      <td>b</td>\n",
       "    </tr>\n",
       "    <tr>\n",
       "      <th>119</th>\n",
       "      <td>121003</td>\n",
       "      <td>325207</td>\n",
       "      <td>b</td>\n",
       "    </tr>\n",
       "    <tr>\n",
       "      <th>120</th>\n",
       "      <td>121003</td>\n",
       "      <td>303702</td>\n",
       "      <td>b</td>\n",
       "    </tr>\n",
       "    <tr>\n",
       "      <th>121</th>\n",
       "      <td>121003</td>\n",
       "      <td>313301</td>\n",
       "      <td>b</td>\n",
       "    </tr>\n",
       "  </tbody>\n",
       "</table>\n",
       "<p>108 rows × 3 columns</p>\n",
       "</div>"
      ],
      "text/plain": [
       "     Warehouse Pincode  Customer Pincode Zone\n",
       "0               121003            507101    d\n",
       "1               121003            486886    d\n",
       "2               121003            532484    d\n",
       "3               121003            143001    b\n",
       "4               121003            515591    d\n",
       "..                 ...               ...  ...\n",
       "114             121003            324008    b\n",
       "115             121003            302020    b\n",
       "119             121003            325207    b\n",
       "120             121003            303702    b\n",
       "121             121003            313301    b\n",
       "\n",
       "[108 rows x 3 columns]"
      ]
     },
     "execution_count": 277,
     "metadata": {},
     "output_type": "execute_result"
    }
   ],
   "source": [
    "Zone"
   ]
  },
  {
   "cell_type": "code",
   "execution_count": 278,
   "id": "972d7a84-1d01-4d96-9efe-017e4044f537",
   "metadata": {},
   "outputs": [
    {
     "name": "stdout",
     "output_type": "stream",
     "text": [
      "398\n",
      "108\n",
      "65\n",
      "124\n",
      "1\n"
     ]
    }
   ],
   "source": [
    "print(Invoice['ExternOrderNo'].count())\n",
    "print(Zone['Zone'].count())\n",
    "print(SKU['SKU'].count())\n",
    "print(Courier_invoice['AWB Code'].count())\n",
    "print(Courier_rate['fwd_a_fixed'].count())"
   ]
  },
  {
   "cell_type": "markdown",
   "id": "53a96e91-e01d-4e9c-bd0c-14c8b93bf327",
   "metadata": {},
   "source": [
    "## Merge"
   ]
  },
  {
   "cell_type": "code",
   "execution_count": 279,
   "id": "60223d82-a85e-4e81-a568-49e53a5d9a44",
   "metadata": {},
   "outputs": [
    {
     "data": {
      "text/html": [
       "<div>\n",
       "<style scoped>\n",
       "    .dataframe tbody tr th:only-of-type {\n",
       "        vertical-align: middle;\n",
       "    }\n",
       "\n",
       "    .dataframe tbody tr th {\n",
       "        vertical-align: top;\n",
       "    }\n",
       "\n",
       "    .dataframe thead th {\n",
       "        text-align: right;\n",
       "    }\n",
       "</style>\n",
       "<table border=\"1\" class=\"dataframe\">\n",
       "  <thead>\n",
       "    <tr style=\"text-align: right;\">\n",
       "      <th></th>\n",
       "      <th>ExternOrderNo</th>\n",
       "      <th>SKU</th>\n",
       "      <th>Order Qty</th>\n",
       "    </tr>\n",
       "  </thead>\n",
       "  <tbody>\n",
       "    <tr>\n",
       "      <th>0</th>\n",
       "      <td>2001827036</td>\n",
       "      <td>8904223818706</td>\n",
       "      <td>1.0</td>\n",
       "    </tr>\n",
       "  </tbody>\n",
       "</table>\n",
       "</div>"
      ],
      "text/plain": [
       "   ExternOrderNo            SKU  Order Qty\n",
       "0     2001827036  8904223818706        1.0"
      ]
     },
     "execution_count": 279,
     "metadata": {},
     "output_type": "execute_result"
    }
   ],
   "source": [
    "#Rename\n",
    "Invoice.rename(columns = {'ExternOrderNo' : 'Order ID'})\n",
    "Invoice.head(1)"
   ]
  },
  {
   "cell_type": "code",
   "execution_count": 280,
   "id": "57820776-204c-4c05-9e33-9ba52eb4dd8b",
   "metadata": {},
   "outputs": [
    {
     "data": {
      "text/html": [
       "<div>\n",
       "<style scoped>\n",
       "    .dataframe tbody tr th:only-of-type {\n",
       "        vertical-align: middle;\n",
       "    }\n",
       "\n",
       "    .dataframe tbody tr th {\n",
       "        vertical-align: top;\n",
       "    }\n",
       "\n",
       "    .dataframe thead th {\n",
       "        text-align: right;\n",
       "    }\n",
       "</style>\n",
       "<table border=\"1\" class=\"dataframe\">\n",
       "  <thead>\n",
       "    <tr style=\"text-align: right;\">\n",
       "      <th></th>\n",
       "      <th>ExternOrderNo</th>\n",
       "      <th>SKU</th>\n",
       "      <th>Order Qty</th>\n",
       "      <th>Weight (g)</th>\n",
       "    </tr>\n",
       "  </thead>\n",
       "  <tbody>\n",
       "    <tr>\n",
       "      <th>0</th>\n",
       "      <td>2001827036</td>\n",
       "      <td>8904223818706</td>\n",
       "      <td>1.0</td>\n",
       "      <td>127</td>\n",
       "    </tr>\n",
       "    <tr>\n",
       "      <th>1</th>\n",
       "      <td>2001827036</td>\n",
       "      <td>8904223819093</td>\n",
       "      <td>1.0</td>\n",
       "      <td>150</td>\n",
       "    </tr>\n",
       "  </tbody>\n",
       "</table>\n",
       "</div>"
      ],
      "text/plain": [
       "   ExternOrderNo            SKU  Order Qty  Weight (g)\n",
       "0     2001827036  8904223818706        1.0         127\n",
       "1     2001827036  8904223819093        1.0         150"
      ]
     },
     "execution_count": 280,
     "metadata": {},
     "output_type": "execute_result"
    }
   ],
   "source": [
    "Invoice_SKU = pd.merge(Invoice, SKU, on='SKU', how='inner')\n",
    "Invoice_SKU.head(2)"
   ]
  },
  {
   "cell_type": "code",
   "execution_count": 281,
   "id": "b387199b-1952-401a-a6b8-95bbd7d92cb9",
   "metadata": {},
   "outputs": [
    {
     "data": {
      "text/html": [
       "<div>\n",
       "<style scoped>\n",
       "    .dataframe tbody tr th:only-of-type {\n",
       "        vertical-align: middle;\n",
       "    }\n",
       "\n",
       "    .dataframe tbody tr th {\n",
       "        vertical-align: top;\n",
       "    }\n",
       "\n",
       "    .dataframe thead th {\n",
       "        text-align: right;\n",
       "    }\n",
       "</style>\n",
       "<table border=\"1\" class=\"dataframe\">\n",
       "  <thead>\n",
       "    <tr style=\"text-align: right;\">\n",
       "      <th></th>\n",
       "      <th>ExternOrderNo</th>\n",
       "      <th>SKU</th>\n",
       "      <th>Order Qty</th>\n",
       "      <th>Weight (g)</th>\n",
       "      <th>Weight(kg)</th>\n",
       "      <th>Weight Slab as per X</th>\n",
       "    </tr>\n",
       "  </thead>\n",
       "  <tbody>\n",
       "    <tr>\n",
       "      <th>0</th>\n",
       "      <td>2001827036</td>\n",
       "      <td>8904223818706</td>\n",
       "      <td>1.0</td>\n",
       "      <td>127</td>\n",
       "      <td>0.127</td>\n",
       "      <td>0.5</td>\n",
       "    </tr>\n",
       "    <tr>\n",
       "      <th>1</th>\n",
       "      <td>2001827036</td>\n",
       "      <td>8904223819093</td>\n",
       "      <td>1.0</td>\n",
       "      <td>150</td>\n",
       "      <td>0.150</td>\n",
       "      <td>0.5</td>\n",
       "    </tr>\n",
       "    <tr>\n",
       "      <th>2</th>\n",
       "      <td>2001827036</td>\n",
       "      <td>8904223819109</td>\n",
       "      <td>1.0</td>\n",
       "      <td>100</td>\n",
       "      <td>0.100</td>\n",
       "      <td>0.5</td>\n",
       "    </tr>\n",
       "  </tbody>\n",
       "</table>\n",
       "</div>"
      ],
      "text/plain": [
       "   ExternOrderNo            SKU  Order Qty  Weight (g)  Weight(kg)  \\\n",
       "0     2001827036  8904223818706        1.0         127       0.127   \n",
       "1     2001827036  8904223819093        1.0         150       0.150   \n",
       "2     2001827036  8904223819109        1.0         100       0.100   \n",
       "\n",
       "   Weight Slab as per X  \n",
       "0                   0.5  \n",
       "1                   0.5  \n",
       "2                   0.5  "
      ]
     },
     "execution_count": 281,
     "metadata": {},
     "output_type": "execute_result"
    }
   ],
   "source": [
    "Invoice_SKU['Weight(kg)'] = (Invoice_SKU['Weight (g)'] * Invoice_SKU['Order Qty'])/ 1000\n",
    "Invoice_SKU['Weight Slab as per X'] = Invoice_SKU['Weight(kg)'].apply(lambda x: math.ceil(x * 2) / 2)\n",
    "Invoice_SKU.head(3)"
   ]
  },
  {
   "cell_type": "code",
   "execution_count": 288,
   "id": "bd767997-5d7f-4f4c-b7c1-05567577e2b5",
   "metadata": {},
   "outputs": [],
   "source": [
    "Invoice_SKU = Invoice_SKU.rename(columns={'ExternOrderNo': 'Order ID'})"
   ]
  },
  {
   "cell_type": "code",
   "execution_count": 289,
   "id": "1b09fdac-960b-4314-9929-8fa61f7b5e21",
   "metadata": {},
   "outputs": [
    {
     "data": {
      "text/html": [
       "<div>\n",
       "<style scoped>\n",
       "    .dataframe tbody tr th:only-of-type {\n",
       "        vertical-align: middle;\n",
       "    }\n",
       "\n",
       "    .dataframe tbody tr th {\n",
       "        vertical-align: top;\n",
       "    }\n",
       "\n",
       "    .dataframe thead th {\n",
       "        text-align: right;\n",
       "    }\n",
       "</style>\n",
       "<table border=\"1\" class=\"dataframe\">\n",
       "  <thead>\n",
       "    <tr style=\"text-align: right;\">\n",
       "      <th></th>\n",
       "      <th>Order ID</th>\n",
       "      <th>SKU</th>\n",
       "      <th>Order Qty</th>\n",
       "      <th>Weight (g)</th>\n",
       "      <th>Weight(kg)</th>\n",
       "      <th>Weight Slab as per X</th>\n",
       "      <th>AWB Code</th>\n",
       "      <th>Charged Weight</th>\n",
       "      <th>Warehouse Pincode</th>\n",
       "      <th>Customer Pincode</th>\n",
       "      <th>Zone</th>\n",
       "      <th>Type of Shipment</th>\n",
       "      <th>Billing Amount (Rs.)</th>\n",
       "    </tr>\n",
       "  </thead>\n",
       "  <tbody>\n",
       "    <tr>\n",
       "      <th>0</th>\n",
       "      <td>2001827036</td>\n",
       "      <td>8904223818706</td>\n",
       "      <td>1.0</td>\n",
       "      <td>127</td>\n",
       "      <td>0.127</td>\n",
       "      <td>0.5</td>\n",
       "      <td>1091122418320</td>\n",
       "      <td>1.6</td>\n",
       "      <td>121003</td>\n",
       "      <td>173213</td>\n",
       "      <td>b</td>\n",
       "      <td>Forward charges</td>\n",
       "      <td>117.9</td>\n",
       "    </tr>\n",
       "    <tr>\n",
       "      <th>1</th>\n",
       "      <td>2001827036</td>\n",
       "      <td>8904223819093</td>\n",
       "      <td>1.0</td>\n",
       "      <td>150</td>\n",
       "      <td>0.150</td>\n",
       "      <td>0.5</td>\n",
       "      <td>1091122418320</td>\n",
       "      <td>1.6</td>\n",
       "      <td>121003</td>\n",
       "      <td>173213</td>\n",
       "      <td>b</td>\n",
       "      <td>Forward charges</td>\n",
       "      <td>117.9</td>\n",
       "    </tr>\n",
       "  </tbody>\n",
       "</table>\n",
       "</div>"
      ],
      "text/plain": [
       "     Order ID            SKU  Order Qty  Weight (g)  Weight(kg)  \\\n",
       "0  2001827036  8904223818706        1.0         127       0.127   \n",
       "1  2001827036  8904223819093        1.0         150       0.150   \n",
       "\n",
       "   Weight Slab as per X       AWB Code  Charged Weight  Warehouse Pincode  \\\n",
       "0                   0.5  1091122418320             1.6             121003   \n",
       "1                   0.5  1091122418320             1.6             121003   \n",
       "\n",
       "   Customer Pincode Zone Type of Shipment  Billing Amount (Rs.)  \n",
       "0            173213    b  Forward charges                 117.9  \n",
       "1            173213    b  Forward charges                 117.9  "
      ]
     },
     "execution_count": 289,
     "metadata": {},
     "output_type": "execute_result"
    }
   ],
   "source": [
    "Invoice_SKU_Courier_invoice = pd.merge(Invoice_SKU, Courier_invoice, how='inner', on='Order ID')\n",
    "Invoice_SKU_Courier_invoice.head(2)"
   ]
  },
  {
   "cell_type": "code",
   "execution_count": 290,
   "id": "20f7bd06-8d7c-4447-bd33-1e7999a2f3bf",
   "metadata": {},
   "outputs": [
    {
     "data": {
      "text/plain": [
       "Type of Shipment\n",
       "Forward and RTO charges    0.233340\n",
       "Forward charges            0.217598\n",
       "Name: Weight(kg), dtype: float64"
      ]
     },
     "execution_count": 290,
     "metadata": {},
     "output_type": "execute_result"
    }
   ],
   "source": [
    "grouped = Invoice_SKU_Courier_invoice.groupby('Type of Shipment')['Weight(kg)'].mean()\n",
    "grouped "
   ]
  },
  {
   "cell_type": "markdown",
   "id": "225240a4-e728-4c89-903b-57b73cef9fc4",
   "metadata": {},
   "source": [
    "## Merge Zone table"
   ]
  },
  {
   "cell_type": "code",
   "execution_count": 353,
   "id": "bb5db0f4-61f3-4b53-aae6-376f9295cc81",
   "metadata": {},
   "outputs": [
    {
     "data": {
      "text/html": [
       "<div>\n",
       "<style scoped>\n",
       "    .dataframe tbody tr th:only-of-type {\n",
       "        vertical-align: middle;\n",
       "    }\n",
       "\n",
       "    .dataframe tbody tr th {\n",
       "        vertical-align: top;\n",
       "    }\n",
       "\n",
       "    .dataframe thead th {\n",
       "        text-align: right;\n",
       "    }\n",
       "</style>\n",
       "<table border=\"1\" class=\"dataframe\">\n",
       "  <thead>\n",
       "    <tr style=\"text-align: right;\">\n",
       "      <th></th>\n",
       "      <th>Order ID</th>\n",
       "      <th>SKU</th>\n",
       "      <th>Order Qty</th>\n",
       "      <th>Weight (g)</th>\n",
       "      <th>Weight(kg)</th>\n",
       "      <th>Weight Slab as per X</th>\n",
       "      <th>AWB Code</th>\n",
       "      <th>Charged Weight</th>\n",
       "      <th>Warehouse Pincode</th>\n",
       "      <th>Customer Pincode</th>\n",
       "      <th>Zone</th>\n",
       "      <th>Type of Shipment</th>\n",
       "      <th>Billing Amount (Rs.)</th>\n",
       "      <th>XZone</th>\n",
       "    </tr>\n",
       "  </thead>\n",
       "  <tbody>\n",
       "    <tr>\n",
       "      <th>0</th>\n",
       "      <td>2001827036</td>\n",
       "      <td>8904223818706</td>\n",
       "      <td>1.0</td>\n",
       "      <td>127</td>\n",
       "      <td>0.127</td>\n",
       "      <td>0.5</td>\n",
       "      <td>1091122418320</td>\n",
       "      <td>1.6</td>\n",
       "      <td>121003</td>\n",
       "      <td>173213</td>\n",
       "      <td>b</td>\n",
       "      <td>Forward charges</td>\n",
       "      <td>117.9</td>\n",
       "      <td>e</td>\n",
       "    </tr>\n",
       "    <tr>\n",
       "      <th>1</th>\n",
       "      <td>2001827036</td>\n",
       "      <td>8904223819093</td>\n",
       "      <td>1.0</td>\n",
       "      <td>150</td>\n",
       "      <td>0.150</td>\n",
       "      <td>0.5</td>\n",
       "      <td>1091122418320</td>\n",
       "      <td>1.6</td>\n",
       "      <td>121003</td>\n",
       "      <td>173213</td>\n",
       "      <td>b</td>\n",
       "      <td>Forward charges</td>\n",
       "      <td>117.9</td>\n",
       "      <td>e</td>\n",
       "    </tr>\n",
       "    <tr>\n",
       "      <th>2</th>\n",
       "      <td>2001827036</td>\n",
       "      <td>8904223819109</td>\n",
       "      <td>1.0</td>\n",
       "      <td>100</td>\n",
       "      <td>0.100</td>\n",
       "      <td>0.5</td>\n",
       "      <td>1091122418320</td>\n",
       "      <td>1.6</td>\n",
       "      <td>121003</td>\n",
       "      <td>173213</td>\n",
       "      <td>b</td>\n",
       "      <td>Forward charges</td>\n",
       "      <td>117.9</td>\n",
       "      <td>e</td>\n",
       "    </tr>\n",
       "  </tbody>\n",
       "</table>\n",
       "</div>"
      ],
      "text/plain": [
       "     Order ID            SKU  Order Qty  Weight (g)  Weight(kg)  \\\n",
       "0  2001827036  8904223818706        1.0         127       0.127   \n",
       "1  2001827036  8904223819093        1.0         150       0.150   \n",
       "2  2001827036  8904223819109        1.0         100       0.100   \n",
       "\n",
       "   Weight Slab as per X       AWB Code  Charged Weight  Warehouse Pincode  \\\n",
       "0                   0.5  1091122418320             1.6             121003   \n",
       "1                   0.5  1091122418320             1.6             121003   \n",
       "2                   0.5  1091122418320             1.6             121003   \n",
       "\n",
       "   Customer Pincode Zone Type of Shipment  Billing Amount (Rs.) XZone  \n",
       "0            173213    b  Forward charges                 117.9     e  \n",
       "1            173213    b  Forward charges                 117.9     e  \n",
       "2            173213    b  Forward charges                 117.9     e  "
      ]
     },
     "execution_count": 353,
     "metadata": {},
     "output_type": "execute_result"
    }
   ],
   "source": [
    "Zone=Zone.rename(columns = {'Zone' : 'XZone'})\n",
    "Invoice_SKU_Courier_invoice_Zone = pd.merge(Invoice_SKU_Courier_invoice, Zone, how='inner', on=['Warehouse Pincode','Customer Pincode'])\n",
    "Invoice_SKU_Courier_invoice_Zone.head(3)"
   ]
  },
  {
   "cell_type": "markdown",
   "id": "9b6e37cc-1de9-4176-89fe-63f9faa088a2",
   "metadata": {},
   "source": [
    "## Slab multiply 0.5"
   ]
  },
  {
   "cell_type": "code",
   "execution_count": 354,
   "id": "0833dcaf-e78f-4c0a-b5db-af004763227c",
   "metadata": {},
   "outputs": [],
   "source": [
    "Invoice_SKU_Courier_invoice_Zone['multi 0.5'] = (Invoice_SKU_Courier_invoice_Zone['Weight Slab as per X']/0.5)-1"
   ]
  },
  {
   "cell_type": "code",
   "execution_count": 355,
   "id": "4d86c571-cc66-4d9a-98de-75801eba651f",
   "metadata": {},
   "outputs": [
    {
     "data": {
      "text/plain": [
       "0      Forward charges-e\n",
       "1      Forward charges-e\n",
       "2      Forward charges-e\n",
       "3      Forward charges-e\n",
       "4      Forward charges-e\n",
       "             ...        \n",
       "393    Forward charges-d\n",
       "394    Forward charges-d\n",
       "395    Forward charges-d\n",
       "396    Forward charges-b\n",
       "397    Forward charges-b\n",
       "Name: Type-XZone, Length: 398, dtype: object"
      ]
     },
     "execution_count": 355,
     "metadata": {},
     "output_type": "execute_result"
    }
   ],
   "source": [
    "Invoice_SKU_Courier_invoice_Zone['Type-XZone'] = Invoice_SKU_Courier_invoice_Zone['Type of Shipment'] + '-' + Invoice_SKU_Courier_invoice_Zone['XZone']\n",
    "Invoice_SKU_Courier_invoice_Zone['Type-XZone']"
   ]
  },
  {
   "cell_type": "code",
   "execution_count": 356,
   "id": "7ed92495-bb39-4801-a067-7131ade4e903",
   "metadata": {},
   "outputs": [
    {
     "data": {
      "text/plain": [
       "Type-XZone\n",
       "Forward and RTO charges-b    0.185235\n",
       "Forward and RTO charges-d    0.265429\n",
       "Forward and RTO charges-e    0.217200\n",
       "Forward charges-b            0.213311\n",
       "Forward charges-d            0.232898\n",
       "Forward charges-e            0.183619\n",
       "Name: Weight(kg), dtype: float64"
      ]
     },
     "execution_count": 356,
     "metadata": {},
     "output_type": "execute_result"
    }
   ],
   "source": [
    "grouped = Invoice_SKU_Courier_invoice_Zone.groupby('Type-XZone')['Weight(kg)'].mean()\n",
    "grouped "
   ]
  },
  {
   "cell_type": "code",
   "execution_count": 357,
   "id": "ff31d206-df5c-46ab-adcb-407f633912a3",
   "metadata": {},
   "outputs": [],
   "source": [
    "import numpy as np\n",
    "\n",
    "Invoice_SKU_Courier_invoice_Zone['XAmount'] = np.where(\n",
    "    Invoice_SKU_Courier_invoice_Zone['Type-XZone'] == 'Forward charges-b',\n",
    "    33 + (Invoice_SKU_Courier_invoice_Zone['multi 0.5'] * 28.3),\n",
    "    np.where(\n",
    "        Invoice_SKU_Courier_invoice_Zone['Type-XZone'] == 'Forward charges-d',\n",
    "        45.4 + (Invoice_SKU_Courier_invoice_Zone['multi 0.5'] * 44.8),\n",
    "    np.where(\n",
    "        Invoice_SKU_Courier_invoice_Zone['Type-XZone'] == 'Forward charges-e',\n",
    "        56.6 + (Invoice_SKU_Courier_invoice_Zone['multi 0.5'] * 55.5),\n",
    "        np.where(\n",
    "            Invoice_SKU_Courier_invoice_Zone['Type-XZone'] == 'Forward and RTO charges-b',\n",
    "            20.5 + 33 + (Invoice_SKU_Courier_invoice_Zone['multi 0.5'] * 28.3 *2),\n",
    "            np.where(\n",
    "                Invoice_SKU_Courier_invoice_Zone['Type-XZone'] == 'Forward and RTO charges-d',\n",
    "                41.3 + 45.4 + (Invoice_SKU_Courier_invoice_Zone['multi 0.5'] * 44.8 *2 ),\n",
    "                np.where(\n",
    "                    Invoice_SKU_Courier_invoice_Zone['Type-XZone'] == 'Forward and RTO charges-e',\n",
    "                    50.7 + 56.6 + (Invoice_SKU_Courier_invoice_Zone['multi 0.5'] * 55.5 *2),\n",
    "                    np.nan  # Default value if none of the conditions match\n",
    "                )\n",
    "            )\n",
    "        )\n",
    "    )\n",
    ")\n",
    ")"
   ]
  },
  {
   "cell_type": "code",
   "execution_count": 358,
   "id": "e46c5bc1-4cbc-49f0-aa0b-d4eaad36fd57",
   "metadata": {},
   "outputs": [
    {
     "data": {
      "text/html": [
       "<div>\n",
       "<style scoped>\n",
       "    .dataframe tbody tr th:only-of-type {\n",
       "        vertical-align: middle;\n",
       "    }\n",
       "\n",
       "    .dataframe tbody tr th {\n",
       "        vertical-align: top;\n",
       "    }\n",
       "\n",
       "    .dataframe thead th {\n",
       "        text-align: right;\n",
       "    }\n",
       "</style>\n",
       "<table border=\"1\" class=\"dataframe\">\n",
       "  <thead>\n",
       "    <tr style=\"text-align: right;\">\n",
       "      <th></th>\n",
       "      <th>Order ID</th>\n",
       "      <th>SKU</th>\n",
       "      <th>Order Qty</th>\n",
       "      <th>Weight (g)</th>\n",
       "      <th>Weight(kg)</th>\n",
       "      <th>Weight Slab as per X</th>\n",
       "      <th>AWB Code</th>\n",
       "      <th>Charged Weight</th>\n",
       "      <th>Warehouse Pincode</th>\n",
       "      <th>Customer Pincode</th>\n",
       "      <th>Zone</th>\n",
       "      <th>Type of Shipment</th>\n",
       "      <th>Billing Amount (Rs.)</th>\n",
       "      <th>XZone</th>\n",
       "      <th>multi 0.5</th>\n",
       "      <th>Type-XZone</th>\n",
       "      <th>XAmount</th>\n",
       "    </tr>\n",
       "  </thead>\n",
       "  <tbody>\n",
       "    <tr>\n",
       "      <th>0</th>\n",
       "      <td>2001827036</td>\n",
       "      <td>8904223818706</td>\n",
       "      <td>1.0</td>\n",
       "      <td>127</td>\n",
       "      <td>0.127</td>\n",
       "      <td>0.5</td>\n",
       "      <td>1091122418320</td>\n",
       "      <td>1.6</td>\n",
       "      <td>121003</td>\n",
       "      <td>173213</td>\n",
       "      <td>b</td>\n",
       "      <td>Forward charges</td>\n",
       "      <td>117.9</td>\n",
       "      <td>e</td>\n",
       "      <td>0.0</td>\n",
       "      <td>Forward charges-e</td>\n",
       "      <td>56.6</td>\n",
       "    </tr>\n",
       "    <tr>\n",
       "      <th>1</th>\n",
       "      <td>2001827036</td>\n",
       "      <td>8904223819093</td>\n",
       "      <td>1.0</td>\n",
       "      <td>150</td>\n",
       "      <td>0.150</td>\n",
       "      <td>0.5</td>\n",
       "      <td>1091122418320</td>\n",
       "      <td>1.6</td>\n",
       "      <td>121003</td>\n",
       "      <td>173213</td>\n",
       "      <td>b</td>\n",
       "      <td>Forward charges</td>\n",
       "      <td>117.9</td>\n",
       "      <td>e</td>\n",
       "      <td>0.0</td>\n",
       "      <td>Forward charges-e</td>\n",
       "      <td>56.6</td>\n",
       "    </tr>\n",
       "    <tr>\n",
       "      <th>2</th>\n",
       "      <td>2001827036</td>\n",
       "      <td>8904223819109</td>\n",
       "      <td>1.0</td>\n",
       "      <td>100</td>\n",
       "      <td>0.100</td>\n",
       "      <td>0.5</td>\n",
       "      <td>1091122418320</td>\n",
       "      <td>1.6</td>\n",
       "      <td>121003</td>\n",
       "      <td>173213</td>\n",
       "      <td>b</td>\n",
       "      <td>Forward charges</td>\n",
       "      <td>117.9</td>\n",
       "      <td>e</td>\n",
       "      <td>0.0</td>\n",
       "      <td>Forward charges-e</td>\n",
       "      <td>56.6</td>\n",
       "    </tr>\n",
       "  </tbody>\n",
       "</table>\n",
       "</div>"
      ],
      "text/plain": [
       "     Order ID            SKU  Order Qty  Weight (g)  Weight(kg)  \\\n",
       "0  2001827036  8904223818706        1.0         127       0.127   \n",
       "1  2001827036  8904223819093        1.0         150       0.150   \n",
       "2  2001827036  8904223819109        1.0         100       0.100   \n",
       "\n",
       "   Weight Slab as per X       AWB Code  Charged Weight  Warehouse Pincode  \\\n",
       "0                   0.5  1091122418320             1.6             121003   \n",
       "1                   0.5  1091122418320             1.6             121003   \n",
       "2                   0.5  1091122418320             1.6             121003   \n",
       "\n",
       "   Customer Pincode Zone Type of Shipment  Billing Amount (Rs.) XZone  \\\n",
       "0            173213    b  Forward charges                 117.9     e   \n",
       "1            173213    b  Forward charges                 117.9     e   \n",
       "2            173213    b  Forward charges                 117.9     e   \n",
       "\n",
       "   multi 0.5         Type-XZone  XAmount  \n",
       "0        0.0  Forward charges-e     56.6  \n",
       "1        0.0  Forward charges-e     56.6  \n",
       "2        0.0  Forward charges-e     56.6  "
      ]
     },
     "execution_count": 358,
     "metadata": {},
     "output_type": "execute_result"
    }
   ],
   "source": [
    "Invoice_SKU_Courier_invoice_Zone.head(3)"
   ]
  },
  {
   "cell_type": "markdown",
   "id": "ddd4293e-e1f9-4dbc-8e2b-4cdb8c8edbff",
   "metadata": {},
   "source": [
    "## Check null "
   ]
  },
  {
   "cell_type": "code",
   "execution_count": 359,
   "id": "56ea1520-0c73-42e1-b6bb-94eea7aa2632",
   "metadata": {},
   "outputs": [
    {
     "data": {
      "text/plain": [
       "np.int64(0)"
      ]
     },
     "execution_count": 359,
     "metadata": {},
     "output_type": "execute_result"
    }
   ],
   "source": [
    "Invoice_SKU_Courier_invoice_Zone['XAmount'].isnull().sum()"
   ]
  },
  {
   "cell_type": "markdown",
   "id": "866ec360-2b03-47b7-bfa9-95057424d233",
   "metadata": {},
   "source": [
    "## Difference"
   ]
  },
  {
   "cell_type": "code",
   "execution_count": 360,
   "id": "cdeb6b16-361b-489e-976f-f609ebbd2da8",
   "metadata": {},
   "outputs": [],
   "source": [
    "Invoice_SKU_Courier_invoice_Zone['Diff_Amount'] = Invoice_SKU_Courier_invoice_Zone['XAmount'] - Invoice_SKU_Courier_invoice_Zone['Billing Amount (Rs.)']"
   ]
  },
  {
   "cell_type": "code",
   "execution_count": 361,
   "id": "62521ac0-45d5-4aa0-a3c7-43b0bc47becf",
   "metadata": {},
   "outputs": [
    {
     "data": {
      "text/html": [
       "<div>\n",
       "<style scoped>\n",
       "    .dataframe tbody tr th:only-of-type {\n",
       "        vertical-align: middle;\n",
       "    }\n",
       "\n",
       "    .dataframe tbody tr th {\n",
       "        vertical-align: top;\n",
       "    }\n",
       "\n",
       "    .dataframe thead th {\n",
       "        text-align: right;\n",
       "    }\n",
       "</style>\n",
       "<table border=\"1\" class=\"dataframe\">\n",
       "  <thead>\n",
       "    <tr style=\"text-align: right;\">\n",
       "      <th></th>\n",
       "      <th>Order ID</th>\n",
       "      <th>SKU</th>\n",
       "      <th>Order Qty</th>\n",
       "      <th>Weight (g)</th>\n",
       "      <th>Weight(kg)</th>\n",
       "      <th>Weight Slab as per X</th>\n",
       "      <th>AWB Code</th>\n",
       "      <th>Charged Weight</th>\n",
       "      <th>Warehouse Pincode</th>\n",
       "      <th>Customer Pincode</th>\n",
       "      <th>Zone</th>\n",
       "      <th>Type of Shipment</th>\n",
       "      <th>Billing Amount (Rs.)</th>\n",
       "      <th>XZone</th>\n",
       "      <th>multi 0.5</th>\n",
       "      <th>Type-XZone</th>\n",
       "      <th>XAmount</th>\n",
       "      <th>Diff_Amount</th>\n",
       "    </tr>\n",
       "  </thead>\n",
       "  <tbody>\n",
       "    <tr>\n",
       "      <th>0</th>\n",
       "      <td>2001827036</td>\n",
       "      <td>8904223818706</td>\n",
       "      <td>1.0</td>\n",
       "      <td>127</td>\n",
       "      <td>0.127</td>\n",
       "      <td>0.5</td>\n",
       "      <td>1091122418320</td>\n",
       "      <td>1.6</td>\n",
       "      <td>121003</td>\n",
       "      <td>173213</td>\n",
       "      <td>b</td>\n",
       "      <td>Forward charges</td>\n",
       "      <td>117.9</td>\n",
       "      <td>e</td>\n",
       "      <td>0.0</td>\n",
       "      <td>Forward charges-e</td>\n",
       "      <td>56.6</td>\n",
       "      <td>-61.3</td>\n",
       "    </tr>\n",
       "  </tbody>\n",
       "</table>\n",
       "</div>"
      ],
      "text/plain": [
       "     Order ID            SKU  Order Qty  Weight (g)  Weight(kg)  \\\n",
       "0  2001827036  8904223818706        1.0         127       0.127   \n",
       "\n",
       "   Weight Slab as per X       AWB Code  Charged Weight  Warehouse Pincode  \\\n",
       "0                   0.5  1091122418320             1.6             121003   \n",
       "\n",
       "   Customer Pincode Zone Type of Shipment  Billing Amount (Rs.) XZone  \\\n",
       "0            173213    b  Forward charges                 117.9     e   \n",
       "\n",
       "   multi 0.5         Type-XZone  XAmount  Diff_Amount  \n",
       "0        0.0  Forward charges-e     56.6        -61.3  "
      ]
     },
     "execution_count": 361,
     "metadata": {},
     "output_type": "execute_result"
    }
   ],
   "source": [
    "Invoice_SKU_Courier_invoice_Zone.head(1)"
   ]
  },
  {
   "cell_type": "markdown",
   "id": "54ee43e0-d954-458f-871f-966c6af86645",
   "metadata": {},
   "source": [
    "## Sum Amount"
   ]
  },
  {
   "cell_type": "code",
   "execution_count": 362,
   "id": "399bc2c5-7475-4b8b-b39f-d4695956e275",
   "metadata": {},
   "outputs": [],
   "source": [
    "Amountzero = Invoice_SKU_Courier_invoice_Zone.loc[\n",
    "    Invoice_SKU_Courier_invoice_Zone['Diff_Amount'] == 0, 'XAmount'\n",
    "].sum()\n",
    "\n",
    "\n",
    "Amountgreaterzero = Invoice_SKU_Courier_invoice_Zone.loc[\n",
    "    Invoice_SKU_Courier_invoice_Zone['Diff_Amount'] < 0, 'Diff_Amount'\n",
    "].sum()\n",
    "\n",
    "\n",
    "Amountlesszero = Invoice_SKU_Courier_invoice_Zone.loc[\n",
    "    Invoice_SKU_Courier_invoice_Zone['Diff_Amount'] > 0, 'Diff_Amount'\n",
    "].sum()"
   ]
  },
  {
   "cell_type": "markdown",
   "id": "5ec82693-5fda-4729-91b4-ebd9416e0867",
   "metadata": {},
   "source": [
    "## Count Rows"
   ]
  },
  {
   "cell_type": "code",
   "execution_count": 363,
   "id": "055afcd0-a6cf-4b12-ab76-632b5ddabbce",
   "metadata": {},
   "outputs": [],
   "source": [
    "countzero = (Invoice_SKU_Courier_invoice_Zone['Diff_Amount'] == 0).sum()\n",
    "countgreaterzero = (Invoice_SKU_Courier_invoice_Zone['Diff_Amount'] < 0).sum()\n",
    "countlesszero = (Invoice_SKU_Courier_invoice_Zone['Diff_Amount'] > 0).sum()"
   ]
  },
  {
   "cell_type": "markdown",
   "id": "929a120b-94ed-4278-bf8e-bd1aeb0aa001",
   "metadata": {},
   "source": [
    "## Summary table - Result "
   ]
  },
  {
   "cell_type": "code",
   "execution_count": 364,
   "id": "c3d2c422-b55c-4ae5-8bc9-1510e6a37644",
   "metadata": {},
   "outputs": [],
   "source": [
    "Result['Count'] = [countzero, countgreaterzero, countlesszero]\n",
    "Result['Amount'] = [Amountzero, Amountgreaterzero, Amountlesszero]"
   ]
  },
  {
   "cell_type": "code",
   "execution_count": 365,
   "id": "b657dbba-6e4a-4135-a843-1e2837f30510",
   "metadata": {},
   "outputs": [
    {
     "data": {
      "text/html": [
       "<div>\n",
       "<style scoped>\n",
       "    .dataframe tbody tr th:only-of-type {\n",
       "        vertical-align: middle;\n",
       "    }\n",
       "\n",
       "    .dataframe tbody tr th {\n",
       "        vertical-align: top;\n",
       "    }\n",
       "\n",
       "    .dataframe thead th {\n",
       "        text-align: right;\n",
       "    }\n",
       "</style>\n",
       "<table border=\"1\" class=\"dataframe\">\n",
       "  <thead>\n",
       "    <tr style=\"text-align: right;\">\n",
       "      <th></th>\n",
       "      <th>Index</th>\n",
       "      <th>Count</th>\n",
       "      <th>Amount</th>\n",
       "    </tr>\n",
       "  </thead>\n",
       "  <tbody>\n",
       "    <tr>\n",
       "      <th>0</th>\n",
       "      <td>Total Orders - Correctly Charged</td>\n",
       "      <td>12</td>\n",
       "      <td>507.6</td>\n",
       "    </tr>\n",
       "    <tr>\n",
       "      <th>1</th>\n",
       "      <td>Total Orders - Over Charged</td>\n",
       "      <td>377</td>\n",
       "      <td>-31508.1</td>\n",
       "    </tr>\n",
       "    <tr>\n",
       "      <th>2</th>\n",
       "      <td>Total Orders - Under Charged</td>\n",
       "      <td>9</td>\n",
       "      <td>165.2</td>\n",
       "    </tr>\n",
       "  </tbody>\n",
       "</table>\n",
       "</div>"
      ],
      "text/plain": [
       "                              Index  Count   Amount\n",
       "0  Total Orders - Correctly Charged     12    507.6\n",
       "1       Total Orders - Over Charged    377 -31508.1\n",
       "2      Total Orders - Under Charged      9    165.2"
      ]
     },
     "execution_count": 365,
     "metadata": {},
     "output_type": "execute_result"
    }
   ],
   "source": [
    "Result"
   ]
  },
  {
   "cell_type": "markdown",
   "id": "4015b3d1-ed53-4dac-8659-1a3db021b0d8",
   "metadata": {},
   "source": [
    "## Exporting"
   ]
  },
  {
   "cell_type": "code",
   "execution_count": 367,
   "id": "a7294910-4ec2-439c-8f21-fb29a6b57fe3",
   "metadata": {},
   "outputs": [],
   "source": [
    "with pd.ExcelWriter(\"Final_output.xlsx\") as writer:\n",
    "    Result.to_excel(writer, sheet_name=\"Summary\", index=False)\n",
    "    Invoice_SKU_Courier_invoice_Zone.to_excel(writer, sheet_name=\"Base Data\", index=False)"
   ]
  }
 ],
 "metadata": {
  "kernelspec": {
   "display_name": "Python 3 (ipykernel)",
   "language": "python",
   "name": "python3"
  },
  "language_info": {
   "codemirror_mode": {
    "name": "ipython",
    "version": 3
   },
   "file_extension": ".py",
   "mimetype": "text/x-python",
   "name": "python",
   "nbconvert_exporter": "python",
   "pygments_lexer": "ipython3",
   "version": "3.13.3"
  }
 },
 "nbformat": 4,
 "nbformat_minor": 5
}
